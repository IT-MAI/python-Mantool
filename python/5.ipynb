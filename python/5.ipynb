{
 "cells": [
  {
   "cell_type": "code",
   "execution_count": 1,
   "id": "8b142612",
   "metadata": {},
   "outputs": [
    {
     "name": "stdout",
     "output_type": "stream",
     "text": [
      "[1, 3, 5, 7, 9]\n"
     ]
    }
   ],
   "source": [
    "\"\"\"\n",
    "Задание 1\n",
    "Допишите функцию, которая принимает список, выбирает из него все элементы с четным индексом и возвращает их в виде списка.\n",
    "\"\"\"\n",
    "def funcA(a):\n",
    "    for i in range(len(a)):\n",
    "        if i % 2 == 0:\n",
    "            x = a[i]\n",
    "            b.append(x)\n",
    "    return b\n",
    "a = [1,2,3,4,5,6,7,8,9]\n",
    "b = list()\n",
    "print(funcA(a))"
   ]
  },
  {
   "cell_type": "code",
   "execution_count": 2,
   "id": "0cc6326e",
   "metadata": {},
   "outputs": [
    {
     "name": "stdout",
     "output_type": "stream",
     "text": [
      "[3, 5, 7]\n"
     ]
    }
   ],
   "source": [
    "\"\"\"\n",
    "Задание 2\n",
    "Допишите функцию, которая принимает список, выбирает из него все элементы, которые больше предыдущего и возвращает их в виде списка.\n",
    "\"\"\"\n",
    "def funcA(a):\n",
    "    for i in range(len(a)):\n",
    "        if a[i] > a[i-1]:\n",
    "            x = a[i]\n",
    "            b.append(x)\n",
    "    return b\n",
    "a = [1,3,2,5,3,7]\n",
    "b = list()\n",
    "print(funcA(a))"
   ]
  },
  {
   "cell_type": "code",
   "execution_count": 3,
   "id": "7eb798f1",
   "metadata": {},
   "outputs": [
    {
     "name": "stdout",
     "output_type": "stream",
     "text": [
      "[5, 2, 3, 4, 1]\n"
     ]
    }
   ],
   "source": [
    "\"\"\"\n",
    "Задание 3\n",
    "Допишите функцию, которая принимает список, меняет местами наибольший и наименьший элементы и возвращает этот список.\n",
    "\"\"\"\n",
    "def funcA(a):\n",
    "    min1 = min(a)\n",
    "    max1 = max(a)\n",
    "    k = 0 # index min\n",
    "    m = 0 # index max\n",
    "    for i in range(len(a)):\n",
    "        if a[i] == min1:\n",
    "            k = i\n",
    "        elif a[i] == max1:\n",
    "            m = i\n",
    "    a[k] = max1\n",
    "    a[m] = min1\n",
    "    return a\n",
    "a = [1,2,3,4,5]\n",
    "print(funcA(a))"
   ]
  }
 ],
 "metadata": {
  "kernelspec": {
   "display_name": "Python 3 (ipykernel)",
   "language": "python",
   "name": "python3"
  },
  "language_info": {
   "codemirror_mode": {
    "name": "ipython",
    "version": 3
   },
   "file_extension": ".py",
   "mimetype": "text/x-python",
   "name": "python",
   "nbconvert_exporter": "python",
   "pygments_lexer": "ipython3",
   "version": "3.10.0"
  }
 },
 "nbformat": 4,
 "nbformat_minor": 5
}
