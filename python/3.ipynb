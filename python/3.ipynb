{
 "cells": [
  {
   "cell_type": "code",
   "execution_count": 1,
   "id": "ec27d8a4",
   "metadata": {},
   "outputs": [
    {
     "name": "stdout",
     "output_type": "stream",
     "text": [
      "55\n"
     ]
    }
   ],
   "source": [
    "\"\"\"\n",
    "Задание 1\n",
    "Допишите функцию, которая принимает массив из 10 чисел и возвращает их сумму.\n",
    "\"\"\"\n",
    "def sum(a):\n",
    "    s = 0\n",
    "    for i in a:\n",
    "        s += i\n",
    "    return s\n",
    "\n",
    "b = [1,2,3,4,5,6,7,8,9,10]\n",
    "print(sum(b))"
   ]
  },
  {
   "cell_type": "code",
   "execution_count": 4,
   "id": "e01a4462",
   "metadata": {},
   "outputs": [
    {
     "name": "stdout",
     "output_type": "stream",
     "text": [
      "1\n"
     ]
    }
   ],
   "source": [
    "\"\"\"\n",
    "Задание 2\n",
    "Допишите функцию, которая принимает массив чисел и возвращает количество чисел равных нулю.\n",
    "\"\"\"\n",
    "def zerof(b):\n",
    "    s = 0 \n",
    "    for i in range(len(b)):\n",
    "        if b[i] == 0:\n",
    "            s += 1\n",
    "    return s\n",
    "b = [10,3,5,4,5,3,7,0,11,13]\n",
    "print(zerof(b))"
   ]
  },
  {
   "cell_type": "code",
   "execution_count": 5,
   "id": "aa17ca48",
   "metadata": {},
   "outputs": [
    {
     "name": "stdout",
     "output_type": "stream",
     "text": [
      "5\n",
      "1 \n",
      "1 2 \n",
      "1 2 3 \n",
      "1 2 3 4 \n",
      "1 2 3 4 5 \n"
     ]
    }
   ],
   "source": [
    "\"\"\"\n",
    "Задание 3\n",
    "Напишите программу, в которой задается натуральное число n и выводится лестница из n ступенек, i-я ступенька должна состоять из чисел от 1 до i без пробелов.\n",
    "\"\"\"\n",
    "n = int(input())\n",
    "for i in range(1, n + 1):\n",
    "    for j in range(1, i + 1):\n",
    "        print(j, sep=' ', end=' ')\n",
    "    print()"
   ]
  },
  {
   "cell_type": "code",
   "execution_count": 6,
   "id": "8b77a97b",
   "metadata": {},
   "outputs": [
    {
     "name": "stdout",
     "output_type": "stream",
     "text": [
      "10\n",
      "          \n",
      "         1\n",
      "        121\n",
      "       12321\n",
      "      1234321\n",
      "     123454321\n",
      "    12345654321\n",
      "   1234567654321\n",
      "  123456787654321\n",
      " 12345678987654321\n",
      "12345678910987654321\n"
     ]
    }
   ],
   "source": [
    "\"\"\"\n",
    "Задание 4\n",
    "Напишите программу, в которой задается натуральное число n и выводится пирамида из n ступенек, i-я ступень должна состоять из чисел от 1 до i и обратно без пробелов.\n",
    "\"\"\"\n",
    "n = int(input()) + 1\n",
    "for i in range(1, n + 1):\n",
    "    print(' ' * (n - i), end='')\n",
    "    print(*range(1, i), *range(1, i - 1)[::-1], sep='')"
   ]
  },
  {
   "cell_type": "code",
   "execution_count": 7,
   "id": "6493f870",
   "metadata": {},
   "outputs": [
    {
     "name": "stdout",
     "output_type": "stream",
     "text": [
      "7\n",
      "     1\n",
      "    212\n",
      "   32123\n",
      "  4321234\n",
      " 543212345\n",
      "65432123456\n",
      " 543212345\n",
      "  4321234\n",
      "   32123\n",
      "    212\n",
      "     1\n"
     ]
    }
   ],
   "source": [
    "\"\"\"\n",
    "Задание 5\n",
    "Напишите программу, в которой задается натуральное число n и выводится ромб из n*2-1 ступенек, i-я ступень должна состоять из чисел от 1 до i и обратно без пробелов.\n",
    "\"\"\"\n",
    "n = int(input())\n",
    "top_row = []\n",
    "for i in range(2, n+1):\n",
    "    row = [str(x) for x in range(1,i)]\n",
    "    rev_row = sorted(row, reverse=True)\n",
    "    offset = ''.join([' ' for x in range(n-i)])\n",
    "    fin_row = offset + ''.join(rev_row[:len(rev_row)-1]) + ''.join(row)\n",
    "    top_row.append(fin_row)\n",
    "for x in top_row+sorted(top_row, reverse=True)[1:]:\n",
    "    print(x)"
   ]
  }
 ],
 "metadata": {
  "kernelspec": {
   "display_name": "Python 3 (ipykernel)",
   "language": "python",
   "name": "python3"
  },
  "language_info": {
   "codemirror_mode": {
    "name": "ipython",
    "version": 3
   },
   "file_extension": ".py",
   "mimetype": "text/x-python",
   "name": "python",
   "nbconvert_exporter": "python",
   "pygments_lexer": "ipython3",
   "version": "3.10.0"
  }
 },
 "nbformat": 4,
 "nbformat_minor": 5
}
