{
 "cells": [
  {
   "cell_type": "code",
   "execution_count": 1,
   "id": "0916e35b",
   "metadata": {},
   "outputs": [
    {
     "name": "stdout",
     "output_type": "stream",
     "text": [
      "m\n"
     ]
    }
   ],
   "source": [
    "\"\"\"\n",
    "Дана строка: Lambdadambda\n",
    "\n",
    "Вывести третий символ этой строки.\n",
    "\"\"\"\n",
    "row = \"Lambdadambda\"\n",
    "print(row[2])"
   ]
  },
  {
   "cell_type": "code",
   "execution_count": 2,
   "id": "4c2102d3",
   "metadata": {},
   "outputs": [
    {
     "name": "stdout",
     "output_type": "stream",
     "text": [
      "a\n"
     ]
    }
   ],
   "source": [
    "# Вывести предпоследний символ этой строки.\n",
    "row = \"Lambdadambda\"\n",
    "print(row[-1])"
   ]
  },
  {
   "cell_type": "code",
   "execution_count": 3,
   "id": "decc436f",
   "metadata": {},
   "outputs": [
    {
     "name": "stdout",
     "output_type": "stream",
     "text": [
      "Lambda"
     ]
    }
   ],
   "source": [
    "# Вывести первые пять символов этой строки.\n",
    "row = \"Lambdadambda\"\n",
    "for i in range(6):\n",
    "    print(row[i], sep='', end='')"
   ]
  },
  {
   "cell_type": "code",
   "execution_count": 4,
   "id": "8ba6c4d5",
   "metadata": {},
   "outputs": [
    {
     "name": "stdout",
     "output_type": "stream",
     "text": [
      "Lambdadamb"
     ]
    }
   ],
   "source": [
    "# Вывести строку, кроме последних двух символов.\n",
    "row = \"Lambdadambda\"\n",
    "for i in range(len(row)-2):\n",
    "    print(row[i], sep='', end='')"
   ]
  },
  {
   "cell_type": "code",
   "execution_count": 5,
   "id": "d3342a19",
   "metadata": {},
   "outputs": [
    {
     "name": "stdout",
     "output_type": "stream",
     "text": [
      "Lmddmd"
     ]
    }
   ],
   "source": [
    "# Вывести все символы с четными индексами (считайте, что 0 - четный индекс).\n",
    "row = \"Lambdadambda\"\n",
    "for i in range(len(row)):\n",
    "    if i % 2 == 0:\n",
    "        print(row[i], sep='', end='')"
   ]
  },
  {
   "cell_type": "code",
   "execution_count": 6,
   "id": "7c1f72d2",
   "metadata": {},
   "outputs": [
    {
     "name": "stdout",
     "output_type": "stream",
     "text": [
      "abaaba"
     ]
    }
   ],
   "source": [
    "# Вывести все символы с нечетными индексами.\n",
    "row = \"Lambdadambda\"\n",
    "for i in range(len(row)):\n",
    "    if i % 2 != 0:\n",
    "        print(row[i], sep='', end='')"
   ]
  },
  {
   "cell_type": "code",
   "execution_count": 7,
   "id": "b8368224",
   "metadata": {},
   "outputs": [
    {
     "name": "stdout",
     "output_type": "stream",
     "text": [
      "adbmadadbmaL\n"
     ]
    }
   ],
   "source": [
    "# Вывести все символы в обратном порядке.\n",
    "row = \"Lambdadambda\"\n",
    "print(row[::-1])"
   ]
  },
  {
   "cell_type": "code",
   "execution_count": 8,
   "id": "1a60b083",
   "metadata": {},
   "outputs": [
    {
     "name": "stdout",
     "output_type": "stream",
     "text": [
      "abaaba"
     ]
    }
   ],
   "source": [
    "# Вывести все символы строки через один в обратном порядке, начиная с последнего.\n",
    "row = \"Lambdadambda\" # abaaba ---> abaaba\n",
    "nr = row[::-1] # adbmadadbmaL\n",
    "for i in range(len(nr)):\n",
    "    if i % 2 == 0:\n",
    "        print(nr[i], sep='', end='')"
   ]
  },
  {
   "cell_type": "code",
   "execution_count": 9,
   "id": "88c2feae",
   "metadata": {},
   "outputs": [
    {
     "name": "stdout",
     "output_type": "stream",
     "text": [
      "12\n"
     ]
    }
   ],
   "source": [
    "# Вывести длину данной строки.\n",
    "row = \"Lambdadambda\"\n",
    "print(len(row))"
   ]
  }
 ],
 "metadata": {
  "kernelspec": {
   "display_name": "Python 3 (ipykernel)",
   "language": "python",
   "name": "python3"
  },
  "language_info": {
   "codemirror_mode": {
    "name": "ipython",
    "version": 3
   },
   "file_extension": ".py",
   "mimetype": "text/x-python",
   "name": "python",
   "nbconvert_exporter": "python",
   "pygments_lexer": "ipython3",
   "version": "3.10.0"
  }
 },
 "nbformat": 4,
 "nbformat_minor": 5
}
